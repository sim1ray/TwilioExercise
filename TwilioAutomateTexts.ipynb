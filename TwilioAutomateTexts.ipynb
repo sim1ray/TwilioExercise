{
 "cells": [
  {
   "cell_type": "markdown",
   "metadata": {},
   "source": [
    "# Twilio Automate Texts\n",
    "\n",
    "This Python exercise is to automate sending text messages at a certain schedule. You will learn more about writing code in Python, invoking an API, working with arrays and scheduling. There is also a bonus question at the end if you want to explore other data structures in Python."
   ]
  },
  {
   "cell_type": "markdown",
   "metadata": {},
   "source": [
    "### Import libraries "
   ]
  },
  {
   "cell_type": "code",
   "execution_count": 3,
   "metadata": {},
   "outputs": [],
   "source": [
    "# Add any other import statements you will need\n",
    "\n",
    "import <TODO>\n",
    "\n",
    "from twilio.rest import Client"
   ]
  },
  {
   "cell_type": "markdown",
   "metadata": {},
   "source": [
    "### Set your Twilio credentials"
   ]
  },
  {
   "cell_type": "code",
   "execution_count": 4,
   "metadata": {},
   "outputs": [],
   "source": [
    "# Create a Twilio accuont here: https://www.twilio.com/try-twilio\n",
    "# Fill out the credentials after you create your free account\n",
    "\n",
    "cellphone = \"\"\n",
    "twilio_number = \"\"\n",
    "twilio_account = \"\"\n",
    "twilio_token = \"\""
   ]
  },
  {
   "cell_type": "markdown",
   "metadata": {},
   "source": [
    "### Arrays"
   ]
  },
  {
   "cell_type": "code",
   "execution_count": 5,
   "metadata": {},
   "outputs": [],
   "source": [
    "# Create an array of messages you want to send. Be creative! :)"
   ]
  },
  {
   "cell_type": "markdown",
   "metadata": {},
   "source": [
    "### Write a function, use the random library"
   ]
  },
  {
   "cell_type": "code",
   "execution_count": null,
   "metadata": {},
   "outputs": [],
   "source": [
    "# Complete this function, add any parameters you need\n",
    "def send_message():\n",
    "\n",
    "    account = twilio_account\n",
    "    token = twilio_token\n",
    "    client = Client(account, token)\n",
    "    # TODO: Figure out how to get a random message\n",
    "    quote = \n",
    "\n",
    "    # TODO: Create and send message\n"
   ]
  },
  {
   "cell_type": "markdown",
   "metadata": {},
   "source": [
    "### Schedule the message"
   ]
  },
  {
   "cell_type": "code",
   "execution_count": null,
   "metadata": {},
   "outputs": [],
   "source": [
    "# TODO: schedule a message to be sent in the morning\n",
    "\n",
    "# TODO: schedule a message to be sent in the evening\n",
    "\n",
    "\n",
    "# Check every x seconds whether a scheduled task is pending to run or not \n",
    "# Hint: you will need another library to check this at a certain interval"
   ]
  },
  {
   "cell_type": "markdown",
   "metadata": {},
   "source": [
    "#### Great, you're done! Check that you got the message by sending it to a friend or yourself"
   ]
  },
  {
   "cell_type": "markdown",
   "metadata": {},
   "source": [
    "### Bonus question: Can you figure out how to send a specific message to a specific number? "
   ]
  },
  {
   "cell_type": "code",
   "execution_count": null,
   "metadata": {},
   "outputs": [],
   "source": [
    "# For example you always want to schedule a message \"Morning!\" to your mom and \n",
    "# \"Hey what's up?\" to your best friend.\n"
   ]
  }
 ],
 "metadata": {
  "kernelspec": {
   "display_name": "Python 3 (ipykernel)",
   "language": "python",
   "name": "python3"
  },
  "language_info": {
   "codemirror_mode": {
    "name": "ipython",
    "version": 3
   },
   "file_extension": ".py",
   "mimetype": "text/x-python",
   "name": "python",
   "nbconvert_exporter": "python",
   "pygments_lexer": "ipython3",
   "version": "3.7.6"
  }
 },
 "nbformat": 4,
 "nbformat_minor": 4
}
