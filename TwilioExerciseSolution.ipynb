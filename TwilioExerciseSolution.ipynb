{
 "cells": [
  {
   "cell_type": "markdown",
   "metadata": {},
   "source": [
    "## Solution"
   ]
  },
  {
   "cell_type": "code",
   "execution_count": null,
   "metadata": {},
   "outputs": [],
   "source": [
    "import random, schedule, time\n",
    "\n",
    "from twilio.rest import Client"
   ]
  },
  {
   "cell_type": "code",
   "execution_count": null,
   "metadata": {},
   "outputs": [],
   "source": [
    "cellphone = \"\"\n",
    "twilio_number = \"\"\n",
    "twilio_account = \"\"\n",
    "twilio_token = \"\""
   ]
  },
  {
   "cell_type": "code",
   "execution_count": null,
   "metadata": {},
   "outputs": [],
   "source": [
    "GOOD_MORNING_QUOTES = [\n",
    "    \"Good Morning Love! Hope You Have An Amazing Day <3\",\n",
    "    \"Good Morning Lovely! Hope you slept well <3\",\n",
    "    \"Hope you have a great day today, my love!\",\n",
    "    \"Love you so much, I know you will slay the day\"\n",
    "]\n",
    "\n",
    "GOOD_EVENING_QUOTES = [\n",
    "    \"Good Evening Love\",\n",
    "    \"Sleep Tight My Love!\",\n",
    "    \"Goodnight sweetie, dream about the beauty of our relationship!\",\n",
    "    \"Love you! I hope you dream about me tonight <3\"\n",
    "]"
   ]
  },
  {
   "cell_type": "code",
   "execution_count": null,
   "metadata": {},
   "outputs": [],
   "source": [
    "def send_message(quotes_list=GOOD_MORNING_QUOTES):\n",
    "\n",
    "    account = twilio_account\n",
    "    token = twilio_token\n",
    "    client = Client(account, token)\n",
    "    quote = quotes_list[random.randint(0, len(quotes_list)-1)]\n",
    "\n",
    "    client.messages.create(to=cellphone,\n",
    "                           from_=twilio_number,\n",
    "                           body=quote\n",
    "                           )\n",
    "\n",
    "\n",
    "# send a message in the morning\n",
    "schedule.every().day.at(\"10:38\").do(send_message, GOOD_MORNING_QUOTES)\n",
    "\n",
    "# send a message in the evening\n",
    "schedule.every().day.at(\"21:24\").do(send_message, GOOD_EVENING_QUOTES)\n",
    "\n",
    "# testing\n",
    "schedule.every().day.at(\"13:55\").do(send_message, GOOD_EVENING_QUOTES)\n",
    "\n",
    "while True:\n",
    "    # Checks whether a scheduled task\n",
    "    # is pending to run or not\n",
    "    schedule.run_pending()\n",
    "    time.sleep(1)"
   ]
  },
  {
   "cell_type": "markdown",
   "metadata": {},
   "source": [
    "## Bonus Solution"
   ]
  },
  {
   "cell_type": "code",
   "execution_count": null,
   "metadata": {},
   "outputs": [],
   "source": [
    "dictionary = {\n",
    "    \"+12226668888\": \"Morning!\",\n",
    "    \"+11231231234\": \"Hey what's up?\"\n",
    "}"
   ]
  },
  {
   "cell_type": "code",
   "execution_count": null,
   "metadata": {},
   "outputs": [],
   "source": [
    "def send_specific_message(cellphone, quote):\n",
    "\n",
    "    account = twilio_account\n",
    "    token = twilio_token\n",
    "    client = Client(account, token)\n",
    "\n",
    "    client.messages.create(to=cellphone,\n",
    "                           from_=twilio_number,\n",
    "                           body=quote\n",
    "                           )\n",
    "    \n",
    "for number in dictionary:\n",
    "    message = dictionary[number]\n",
    "    schedule.every().day.at(\"10:30\").do(send_specific_message, cellphone=number, quote=message)\n",
    "    schedule.every().day.at(\"21:30\").do(send_specific_message, cellphone=number, quote=message)\n",
    "    \n",
    "while True:\n",
    "    schedule.run_pending()\n",
    "    time.sleep(2)"
   ]
  }
 ],
 "metadata": {
  "kernelspec": {
   "display_name": "Python 3 (ipykernel)",
   "language": "python",
   "name": "python3"
  },
  "language_info": {
   "codemirror_mode": {
    "name": "ipython",
    "version": 3
   },
   "file_extension": ".py",
   "mimetype": "text/x-python",
   "name": "python",
   "nbconvert_exporter": "python",
   "pygments_lexer": "ipython3",
   "version": "3.7.6"
  }
 },
 "nbformat": 4,
 "nbformat_minor": 4
}
